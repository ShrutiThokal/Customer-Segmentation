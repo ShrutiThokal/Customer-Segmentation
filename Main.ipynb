{
 "cells": [
  {
   "cell_type": "code",
   "execution_count": 1,
   "id": "fca4d9ac",
   "metadata": {
    "_cell_guid": "b1076dfc-b9ad-4769-8c92-a6c4dae69d19",
    "_uuid": "8f2839f25d086af736a60e9eeb907d3b93b6e0e5",
    "execution": {
     "iopub.execute_input": "2024-06-03T22:04:20.153621Z",
     "iopub.status.busy": "2024-06-03T22:04:20.153196Z",
     "iopub.status.idle": "2024-06-03T22:04:21.329129Z",
     "shell.execute_reply": "2024-06-03T22:04:21.327610Z"
    },
    "papermill": {
     "duration": 1.189501,
     "end_time": "2024-06-03T22:04:21.332262",
     "exception": false,
     "start_time": "2024-06-03T22:04:20.142761",
     "status": "completed"
    },
    "tags": []
   },
   "outputs": [
    {
     "name": "stdout",
     "output_type": "stream",
     "text": [
      "/kaggle/input/customer-segmentation-tutorial-in-python/Mall_Customers.csv\n"
     ]
    }
   ],
   "source": [
    "# This Python 3 environment comes with many helpful analytics libraries installed\n",
    "# It is defined by the kaggle/python Docker image: https://github.com/kaggle/docker-python\n",
    "# For example, here's several helpful packages to load\n",
    "\n",
    "import numpy as np # linear algebra\n",
    "import pandas as pd # data processing, CSV file I/O (e.g. pd.read_csv)\n",
    "\n",
    "# Input data files are available in the read-only \"../input/\" directory\n",
    "# For example, running this (by clicking run or pressing Shift+Enter) will list all files under the input directory\n",
    "\n",
    "import os\n",
    "for dirname, _, filenames in os.walk('/kaggle/input'):\n",
    "    for filename in filenames:\n",
    "        print(os.path.join(dirname, filename))\n",
    "\n",
    "# You can write up to 20GB to the current directory (/kaggle/working/) that gets preserved as output when you create a version using \"Save & Run All\" \n",
    "# You can also write temporary files to /kaggle/temp/, but they won't be saved outside of the current session"
   ]
  },
  {
   "cell_type": "code",
   "execution_count": 2,
   "id": "46e7b456",
   "metadata": {
    "execution": {
     "iopub.execute_input": "2024-06-03T22:04:21.350123Z",
     "iopub.status.busy": "2024-06-03T22:04:21.349497Z",
     "iopub.status.idle": "2024-06-03T22:04:23.716594Z",
     "shell.execute_reply": "2024-06-03T22:04:23.714969Z"
    },
    "papermill": {
     "duration": 2.379853,
     "end_time": "2024-06-03T22:04:23.720210",
     "exception": false,
     "start_time": "2024-06-03T22:04:21.340357",
     "status": "completed"
    },
    "tags": []
   },
   "outputs": [],
   "source": [
    "import numpy as np\n",
    "import pandas as pd\n",
    "import matplotlib.pyplot as plt\n",
    "import seaborn as sns\n",
    "from sklearn.cluster import KMeans\n",
    "from sklearn.decomposition import PCA"
   ]
  },
  {
   "cell_type": "code",
   "execution_count": 3,
   "id": "a4a9e6bf",
   "metadata": {
    "execution": {
     "iopub.execute_input": "2024-06-03T22:04:23.737618Z",
     "iopub.status.busy": "2024-06-03T22:04:23.737147Z",
     "iopub.status.idle": "2024-06-03T22:04:23.761621Z",
     "shell.execute_reply": "2024-06-03T22:04:23.760171Z"
    },
    "papermill": {
     "duration": 0.037561,
     "end_time": "2024-06-03T22:04:23.765409",
     "exception": false,
     "start_time": "2024-06-03T22:04:23.727848",
     "status": "completed"
    },
    "tags": []
   },
   "outputs": [],
   "source": [
    "#CSV file into pandas dataframe\n",
    "\n",
    "data = pd.read_csv('/kaggle/input/customer-segmentation-tutorial-in-python/Mall_Customers.csv')"
   ]
  },
  {
   "cell_type": "markdown",
   "id": "103a3ab2",
   "metadata": {
    "papermill": {
     "duration": 0.007352,
     "end_time": "2024-06-03T22:04:23.780679",
     "exception": false,
     "start_time": "2024-06-03T22:04:23.773327",
     "status": "completed"
    },
    "tags": []
   },
   "source": [
    "#  Exploratory Data Analysis"
   ]
  },
  {
   "cell_type": "code",
   "execution_count": 4,
   "id": "26efd3b7",
   "metadata": {
    "execution": {
     "iopub.execute_input": "2024-06-03T22:04:23.798728Z",
     "iopub.status.busy": "2024-06-03T22:04:23.798202Z",
     "iopub.status.idle": "2024-06-03T22:04:23.826967Z",
     "shell.execute_reply": "2024-06-03T22:04:23.825511Z"
    },
    "papermill": {
     "duration": 0.041876,
     "end_time": "2024-06-03T22:04:23.830316",
     "exception": false,
     "start_time": "2024-06-03T22:04:23.788440",
     "status": "completed"
    },
    "tags": []
   },
   "outputs": [
    {
     "data": {
      "text/html": [
       "<div>\n",
       "<style scoped>\n",
       "    .dataframe tbody tr th:only-of-type {\n",
       "        vertical-align: middle;\n",
       "    }\n",
       "\n",
       "    .dataframe tbody tr th {\n",
       "        vertical-align: top;\n",
       "    }\n",
       "\n",
       "    .dataframe thead th {\n",
       "        text-align: right;\n",
       "    }\n",
       "</style>\n",
       "<table border=\"1\" class=\"dataframe\">\n",
       "  <thead>\n",
       "    <tr style=\"text-align: right;\">\n",
       "      <th></th>\n",
       "      <th>CustomerID</th>\n",
       "      <th>Gender</th>\n",
       "      <th>Age</th>\n",
       "      <th>Annual Income (k$)</th>\n",
       "      <th>Spending Score (1-100)</th>\n",
       "    </tr>\n",
       "  </thead>\n",
       "  <tbody>\n",
       "    <tr>\n",
       "      <th>0</th>\n",
       "      <td>1</td>\n",
       "      <td>Male</td>\n",
       "      <td>19</td>\n",
       "      <td>15</td>\n",
       "      <td>39</td>\n",
       "    </tr>\n",
       "    <tr>\n",
       "      <th>1</th>\n",
       "      <td>2</td>\n",
       "      <td>Male</td>\n",
       "      <td>21</td>\n",
       "      <td>15</td>\n",
       "      <td>81</td>\n",
       "    </tr>\n",
       "    <tr>\n",
       "      <th>2</th>\n",
       "      <td>3</td>\n",
       "      <td>Female</td>\n",
       "      <td>20</td>\n",
       "      <td>16</td>\n",
       "      <td>6</td>\n",
       "    </tr>\n",
       "    <tr>\n",
       "      <th>3</th>\n",
       "      <td>4</td>\n",
       "      <td>Female</td>\n",
       "      <td>23</td>\n",
       "      <td>16</td>\n",
       "      <td>77</td>\n",
       "    </tr>\n",
       "    <tr>\n",
       "      <th>4</th>\n",
       "      <td>5</td>\n",
       "      <td>Female</td>\n",
       "      <td>31</td>\n",
       "      <td>17</td>\n",
       "      <td>40</td>\n",
       "    </tr>\n",
       "  </tbody>\n",
       "</table>\n",
       "</div>"
      ],
      "text/plain": [
       "   CustomerID  Gender  Age  Annual Income (k$)  Spending Score (1-100)\n",
       "0           1    Male   19                  15                      39\n",
       "1           2    Male   21                  15                      81\n",
       "2           3  Female   20                  16                       6\n",
       "3           4  Female   23                  16                      77\n",
       "4           5  Female   31                  17                      40"
      ]
     },
     "execution_count": 4,
     "metadata": {},
     "output_type": "execute_result"
    }
   ],
   "source": [
    "data.head()"
   ]
  },
  {
   "cell_type": "code",
   "execution_count": 5,
   "id": "d6a467a1",
   "metadata": {
    "execution": {
     "iopub.execute_input": "2024-06-03T22:04:23.848046Z",
     "iopub.status.busy": "2024-06-03T22:04:23.847521Z",
     "iopub.status.idle": "2024-06-03T22:04:23.856807Z",
     "shell.execute_reply": "2024-06-03T22:04:23.855476Z"
    },
    "papermill": {
     "duration": 0.023411,
     "end_time": "2024-06-03T22:04:23.861622",
     "exception": false,
     "start_time": "2024-06-03T22:04:23.838211",
     "status": "completed"
    },
    "tags": []
   },
   "outputs": [
    {
     "data": {
      "text/plain": [
       "(200, 5)"
      ]
     },
     "execution_count": 5,
     "metadata": {},
     "output_type": "execute_result"
    }
   ],
   "source": [
    "data.shape"
   ]
  },
  {
   "cell_type": "code",
   "execution_count": 6,
   "id": "75deb2c9",
   "metadata": {
    "execution": {
     "iopub.execute_input": "2024-06-03T22:04:23.885978Z",
     "iopub.status.busy": "2024-06-03T22:04:23.885481Z",
     "iopub.status.idle": "2024-06-03T22:04:23.914368Z",
     "shell.execute_reply": "2024-06-03T22:04:23.912451Z"
    },
    "papermill": {
     "duration": 0.04451,
     "end_time": "2024-06-03T22:04:23.917461",
     "exception": false,
     "start_time": "2024-06-03T22:04:23.872951",
     "status": "completed"
    },
    "tags": []
   },
   "outputs": [
    {
     "name": "stdout",
     "output_type": "stream",
     "text": [
      "<class 'pandas.core.frame.DataFrame'>\n",
      "RangeIndex: 200 entries, 0 to 199\n",
      "Data columns (total 5 columns):\n",
      " #   Column                  Non-Null Count  Dtype \n",
      "---  ------                  --------------  ----- \n",
      " 0   CustomerID              200 non-null    int64 \n",
      " 1   Gender                  200 non-null    object\n",
      " 2   Age                     200 non-null    int64 \n",
      " 3   Annual Income (k$)      200 non-null    int64 \n",
      " 4   Spending Score (1-100)  200 non-null    int64 \n",
      "dtypes: int64(4), object(1)\n",
      "memory usage: 7.9+ KB\n"
     ]
    }
   ],
   "source": [
    "data.info()"
   ]
  },
  {
   "cell_type": "code",
   "execution_count": 7,
   "id": "ee6a75d4",
   "metadata": {
    "execution": {
     "iopub.execute_input": "2024-06-03T22:04:23.938032Z",
     "iopub.status.busy": "2024-06-03T22:04:23.937527Z",
     "iopub.status.idle": "2024-06-03T22:04:23.947601Z",
     "shell.execute_reply": "2024-06-03T22:04:23.946442Z"
    },
    "papermill": {
     "duration": 0.022703,
     "end_time": "2024-06-03T22:04:23.950307",
     "exception": false,
     "start_time": "2024-06-03T22:04:23.927604",
     "status": "completed"
    },
    "tags": []
   },
   "outputs": [
    {
     "data": {
      "text/plain": [
       "CustomerID                0\n",
       "Gender                    0\n",
       "Age                       0\n",
       "Annual Income (k$)        0\n",
       "Spending Score (1-100)    0\n",
       "dtype: int64"
      ]
     },
     "execution_count": 7,
     "metadata": {},
     "output_type": "execute_result"
    }
   ],
   "source": [
    "data.isnull().sum()"
   ]
  },
  {
   "cell_type": "markdown",
   "id": "2ccfb91e",
   "metadata": {
    "papermill": {
     "duration": 0.007767,
     "end_time": "2024-06-03T22:04:23.966310",
     "exception": false,
     "start_time": "2024-06-03T22:04:23.958543",
     "status": "completed"
    },
    "tags": []
   },
   "source": [
    "**Deleting the customer id, gender and age**"
   ]
  },
  {
   "cell_type": "code",
   "execution_count": 8,
   "id": "45952269",
   "metadata": {
    "execution": {
     "iopub.execute_input": "2024-06-03T22:04:23.984560Z",
     "iopub.status.busy": "2024-06-03T22:04:23.984102Z",
     "iopub.status.idle": "2024-06-03T22:04:23.991247Z",
     "shell.execute_reply": "2024-06-03T22:04:23.990081Z"
    },
    "papermill": {
     "duration": 0.019866,
     "end_time": "2024-06-03T22:04:23.994222",
     "exception": false,
     "start_time": "2024-06-03T22:04:23.974356",
     "status": "completed"
    },
    "tags": []
   },
   "outputs": [],
   "source": [
    "data = data.drop(['CustomerID', 'Gender', 'Age'], axis=1)"
   ]
  },
  {
   "cell_type": "code",
   "execution_count": 9,
   "id": "412330dd",
   "metadata": {
    "execution": {
     "iopub.execute_input": "2024-06-03T22:04:24.018765Z",
     "iopub.status.busy": "2024-06-03T22:04:24.018298Z",
     "iopub.status.idle": "2024-06-03T22:04:24.029966Z",
     "shell.execute_reply": "2024-06-03T22:04:24.028741Z"
    },
    "papermill": {
     "duration": 0.026686,
     "end_time": "2024-06-03T22:04:24.032627",
     "exception": false,
     "start_time": "2024-06-03T22:04:24.005941",
     "status": "completed"
    },
    "tags": []
   },
   "outputs": [
    {
     "data": {
      "text/html": [
       "<div>\n",
       "<style scoped>\n",
       "    .dataframe tbody tr th:only-of-type {\n",
       "        vertical-align: middle;\n",
       "    }\n",
       "\n",
       "    .dataframe tbody tr th {\n",
       "        vertical-align: top;\n",
       "    }\n",
       "\n",
       "    .dataframe thead th {\n",
       "        text-align: right;\n",
       "    }\n",
       "</style>\n",
       "<table border=\"1\" class=\"dataframe\">\n",
       "  <thead>\n",
       "    <tr style=\"text-align: right;\">\n",
       "      <th></th>\n",
       "      <th>Annual Income (k$)</th>\n",
       "      <th>Spending Score (1-100)</th>\n",
       "    </tr>\n",
       "  </thead>\n",
       "  <tbody>\n",
       "    <tr>\n",
       "      <th>0</th>\n",
       "      <td>15</td>\n",
       "      <td>39</td>\n",
       "    </tr>\n",
       "    <tr>\n",
       "      <th>1</th>\n",
       "      <td>15</td>\n",
       "      <td>81</td>\n",
       "    </tr>\n",
       "    <tr>\n",
       "      <th>2</th>\n",
       "      <td>16</td>\n",
       "      <td>6</td>\n",
       "    </tr>\n",
       "    <tr>\n",
       "      <th>3</th>\n",
       "      <td>16</td>\n",
       "      <td>77</td>\n",
       "    </tr>\n",
       "    <tr>\n",
       "      <th>4</th>\n",
       "      <td>17</td>\n",
       "      <td>40</td>\n",
       "    </tr>\n",
       "  </tbody>\n",
       "</table>\n",
       "</div>"
      ],
      "text/plain": [
       "   Annual Income (k$)  Spending Score (1-100)\n",
       "0                  15                      39\n",
       "1                  15                      81\n",
       "2                  16                       6\n",
       "3                  16                      77\n",
       "4                  17                      40"
      ]
     },
     "execution_count": 9,
     "metadata": {},
     "output_type": "execute_result"
    }
   ],
   "source": [
    "data.head()"
   ]
  },
  {
   "cell_type": "code",
   "execution_count": 10,
   "id": "be09c2c0",
   "metadata": {
    "execution": {
     "iopub.execute_input": "2024-06-03T22:04:24.052256Z",
     "iopub.status.busy": "2024-06-03T22:04:24.051035Z",
     "iopub.status.idle": "2024-06-03T22:04:24.075489Z",
     "shell.execute_reply": "2024-06-03T22:04:24.074380Z"
    },
    "papermill": {
     "duration": 0.037459,
     "end_time": "2024-06-03T22:04:24.078575",
     "exception": false,
     "start_time": "2024-06-03T22:04:24.041116",
     "status": "completed"
    },
    "tags": []
   },
   "outputs": [
    {
     "data": {
      "text/html": [
       "<div>\n",
       "<style scoped>\n",
       "    .dataframe tbody tr th:only-of-type {\n",
       "        vertical-align: middle;\n",
       "    }\n",
       "\n",
       "    .dataframe tbody tr th {\n",
       "        vertical-align: top;\n",
       "    }\n",
       "\n",
       "    .dataframe thead th {\n",
       "        text-align: right;\n",
       "    }\n",
       "</style>\n",
       "<table border=\"1\" class=\"dataframe\">\n",
       "  <thead>\n",
       "    <tr style=\"text-align: right;\">\n",
       "      <th></th>\n",
       "      <th>Annual Income (k$)</th>\n",
       "      <th>Spending Score (1-100)</th>\n",
       "    </tr>\n",
       "  </thead>\n",
       "  <tbody>\n",
       "    <tr>\n",
       "      <th>count</th>\n",
       "      <td>200.000000</td>\n",
       "      <td>200.000000</td>\n",
       "    </tr>\n",
       "    <tr>\n",
       "      <th>mean</th>\n",
       "      <td>60.560000</td>\n",
       "      <td>50.200000</td>\n",
       "    </tr>\n",
       "    <tr>\n",
       "      <th>std</th>\n",
       "      <td>26.264721</td>\n",
       "      <td>25.823522</td>\n",
       "    </tr>\n",
       "    <tr>\n",
       "      <th>min</th>\n",
       "      <td>15.000000</td>\n",
       "      <td>1.000000</td>\n",
       "    </tr>\n",
       "    <tr>\n",
       "      <th>25%</th>\n",
       "      <td>41.500000</td>\n",
       "      <td>34.750000</td>\n",
       "    </tr>\n",
       "    <tr>\n",
       "      <th>50%</th>\n",
       "      <td>61.500000</td>\n",
       "      <td>50.000000</td>\n",
       "    </tr>\n",
       "    <tr>\n",
       "      <th>75%</th>\n",
       "      <td>78.000000</td>\n",
       "      <td>73.000000</td>\n",
       "    </tr>\n",
       "    <tr>\n",
       "      <th>max</th>\n",
       "      <td>137.000000</td>\n",
       "      <td>99.000000</td>\n",
       "    </tr>\n",
       "  </tbody>\n",
       "</table>\n",
       "</div>"
      ],
      "text/plain": [
       "       Annual Income (k$)  Spending Score (1-100)\n",
       "count          200.000000              200.000000\n",
       "mean            60.560000               50.200000\n",
       "std             26.264721               25.823522\n",
       "min             15.000000                1.000000\n",
       "25%             41.500000               34.750000\n",
       "50%             61.500000               50.000000\n",
       "75%             78.000000               73.000000\n",
       "max            137.000000               99.000000"
      ]
     },
     "execution_count": 10,
     "metadata": {},
     "output_type": "execute_result"
    }
   ],
   "source": [
    "data.describe()"
   ]
  },
  {
   "cell_type": "markdown",
   "id": "5db0f306",
   "metadata": {
    "papermill": {
     "duration": 0.009122,
     "end_time": "2024-06-03T22:04:24.099603",
     "exception": false,
     "start_time": "2024-06-03T22:04:24.090481",
     "status": "completed"
    },
    "tags": []
   },
   "source": [
    "**Choosing the Numbers of Clusters**\n",
    "\n",
    "WCSS -> Within Clusters Sum of Squares"
   ]
  },
  {
   "cell_type": "code",
   "execution_count": 11,
   "id": "ea435c90",
   "metadata": {
    "execution": {
     "iopub.execute_input": "2024-06-03T22:04:24.119562Z",
     "iopub.status.busy": "2024-06-03T22:04:24.119096Z",
     "iopub.status.idle": "2024-06-03T22:04:24.671519Z",
     "shell.execute_reply": "2024-06-03T22:04:24.670397Z"
    },
    "papermill": {
     "duration": 0.566584,
     "end_time": "2024-06-03T22:04:24.675034",
     "exception": false,
     "start_time": "2024-06-03T22:04:24.108450",
     "status": "completed"
    },
    "tags": []
   },
   "outputs": [],
   "source": [
    "# Calculate WCSS for different number of clusters\n",
    "wcss = []\n",
    "for i in range(1, 11):\n",
    "    kmeans = KMeans(n_clusters=i, init='k-means++', n_init=10, random_state=42)\n",
    "    kmeans.fit(data)\n",
    "    wcss.append(kmeans.inertia_)"
   ]
  },
  {
   "cell_type": "code",
   "execution_count": 12,
   "id": "9c0822c5",
   "metadata": {
    "execution": {
     "iopub.execute_input": "2024-06-03T22:04:24.697711Z",
     "iopub.status.busy": "2024-06-03T22:04:24.697248Z",
     "iopub.status.idle": "2024-06-03T22:04:25.160080Z",
     "shell.execute_reply": "2024-06-03T22:04:25.158484Z"
    },
    "papermill": {
     "duration": 0.476985,
     "end_time": "2024-06-03T22:04:25.163482",
     "exception": false,
     "start_time": "2024-06-03T22:04:24.686497",
     "status": "completed"
    },
    "tags": []
   },
   "outputs": [
    {
     "data": {
      "image/png": "[encoded data removed]",
      "text/plain": [
       "<Figure size 640x480 with 1 Axes>"
      ]
     },
     "metadata": {},
     "output_type": "display_data"
    }
   ],
   "source": [
    "# Plotting the Elbow Method graph\n",
    "sns.set()\n",
    "plt.plot(range(1, 11), wcss, marker='o')\n",
    "plt.title('Elbow Point Graph')\n",
    "plt.xlabel('Number of clusters')\n",
    "plt.ylabel('WCSS')\n",
    "plt.show()"
   ]
  },
  {
   "cell_type": "markdown",
   "id": "678f0410",
   "metadata": {
    "papermill": {
     "duration": 0.009552,
     "end_time": "2024-06-03T22:04:25.182763",
     "exception": false,
     "start_time": "2024-06-03T22:04:25.173211",
     "status": "completed"
    },
    "tags": []
   },
   "source": [
    "**Finding the optimal numbers of clusters**"
   ]
  },
  {
   "cell_type": "code",
   "execution_count": 13,
   "id": "04c1d6d3",
   "metadata": {
    "execution": {
     "iopub.execute_input": "2024-06-03T22:04:25.207698Z",
     "iopub.status.busy": "2024-06-03T22:04:25.207229Z",
     "iopub.status.idle": "2024-06-03T22:04:25.215414Z",
     "shell.execute_reply": "2024-06-03T22:04:25.213885Z"
    },
    "papermill": {
     "duration": 0.022948,
     "end_time": "2024-06-03T22:04:25.218838",
     "exception": false,
     "start_time": "2024-06-03T22:04:25.195890",
     "status": "completed"
    },
    "tags": []
   },
   "outputs": [
    {
     "name": "stdout",
     "output_type": "stream",
     "text": [
      "The optimal number of clusters based on the Elbow Method is: 2\n"
     ]
    }
   ],
   "source": [
    "# Calculate the first derivative of WCSS\n",
    "first_derivative = np.diff(wcss)\n",
    "\n",
    "# Calculate the second derivative of WCSS\n",
    "second_derivative = np.diff(first_derivative)\n",
    "\n",
    "# Find the index of the maximum second derivative\n",
    "elbow_point = np.argmax(second_derivative) + 1  # Adding 1 because index starts at 0\n",
    "\n",
    "print(f\"The optimal number of clusters based on the Elbow Method is: {elbow_point}\")"
   ]
  },
  {
   "cell_type": "markdown",
   "id": "e2247f71",
   "metadata": {
    "papermill": {
     "duration": 0.008833,
     "end_time": "2024-06-03T22:04:25.237959",
     "exception": false,
     "start_time": "2024-06-03T22:04:25.229126",
     "status": "completed"
    },
    "tags": []
   },
   "source": [
    "# Training the K-Means Clustering Model"
   ]
  },
  {
   "cell_type": "code",
   "execution_count": 14,
   "id": "1094d7d3",
   "metadata": {
    "execution": {
     "iopub.execute_input": "2024-06-03T22:04:25.259634Z",
     "iopub.status.busy": "2024-06-03T22:04:25.259152Z",
     "iopub.status.idle": "2024-06-03T22:04:25.296171Z",
     "shell.execute_reply": "2024-06-03T22:04:25.295053Z"
    },
    "papermill": {
     "duration": 0.052124,
     "end_time": "2024-06-03T22:04:25.299771",
     "exception": false,
     "start_time": "2024-06-03T22:04:25.247647",
     "status": "completed"
    },
    "tags": []
   },
   "outputs": [
    {
     "name": "stdout",
     "output_type": "stream",
     "text": [
      "[2 3 2 3 2 3 2 3 2 3 2 3 2 3 2 3 2 3 2 3 2 3 2 3 2 3 2 3 2 3 2 3 2 3 2 3 2\n",
      " 3 2 3 2 3 2 0 2 3 0 0 0 0 0 0 0 0 0 0 0 0 0 0 0 0 0 0 0 0 0 0 0 0 0 0 0 0\n",
      " 0 0 0 0 0 0 0 0 0 0 0 0 0 0 0 0 0 0 0 0 0 0 0 0 0 0 0 0 0 0 0 0 0 0 0 0 0\n",
      " 0 0 0 0 0 0 0 0 0 0 0 0 4 1 4 0 4 1 4 1 4 0 4 1 4 1 4 1 4 1 4 0 4 1 4 1 4\n",
      " 1 4 1 4 1 4 1 4 1 4 1 4 1 4 1 4 1 4 1 4 1 4 1 4 1 4 1 4 1 4 1 4 1 4 1 4 1\n",
      " 4 1 4 1 4 1 4 1 4 1 4 1 4 1 4]\n"
     ]
    }
   ],
   "source": [
    "kmeans = KMeans(n_clusters=5, init='k-means++', n_init=10, random_state=42)\n",
    "\n",
    "#return a label for each data point based on their cluster\n",
    "y = kmeans.fit_predict(data)\n",
    "\n",
    "print(y)"
   ]
  },
  {
   "cell_type": "markdown",
   "id": "7c45ee91",
   "metadata": {
    "papermill": {
     "duration": 0.0109,
     "end_time": "2024-06-03T22:04:25.328619",
     "exception": false,
     "start_time": "2024-06-03T22:04:25.317719",
     "status": "completed"
    },
    "tags": []
   },
   "source": [
    "**Visulalizing all the clusters**"
   ]
  },
  {
   "cell_type": "code",
   "execution_count": 15,
   "id": "5df30741",
   "metadata": {
    "execution": {
     "iopub.execute_input": "2024-06-03T22:04:25.352378Z",
     "iopub.status.busy": "2024-06-03T22:04:25.351835Z",
     "iopub.status.idle": "2024-06-03T22:04:25.972611Z",
     "shell.execute_reply": "2024-06-03T22:04:25.971370Z"
    },
    "papermill": {
     "duration": 0.63527,
     "end_time": "2024-06-03T22:04:25.975306",
     "exception": false,
     "start_time": "2024-06-03T22:04:25.340036",
     "status": "completed"
    },
    "tags": []
   },
   "outputs": [
    {
     "data": {
      "image/png": "[encoded data removed]",
      "text/plain": [
       "<Figure size 800x800 with 1 Axes>"
      ]
     },
     "metadata": {},
     "output_type": "display_data"
    }
   ],
   "source": [
    "dataa = data.values\n",
    "# Plotting the clusters and their centroids\n",
    "plt.figure(figsize=(8, 8))\n",
    "plt.scatter(dataa[y == 0, 0], dataa[y == 0, 1], s=50, c='green', label='Cluster 1')\n",
    "plt.scatter(dataa[y == 1, 0], dataa[y == 1, 1], s=50, c='red', label='Cluster 2')\n",
    "plt.scatter(dataa[y == 2, 0], dataa[y == 2, 1], s=50, c='blue', label='Cluster 3')\n",
    "plt.scatter(dataa[y == 3, 0], dataa[y == 3, 1], s=50, c='pink', label='Cluster 4')\n",
    "plt.scatter(dataa[y == 4, 0], dataa[y == 4, 1], s=50, c='yellow', label='Cluster 5')\n",
    "\n",
    "\n",
    "centroids = kmeans.cluster_centers_\n",
    "plt.scatter(centroids[:, 0], centroids[:, 1], s=50, c='black', label='Centroids')\n",
    "\n",
    "plt.title('Customers Group')\n",
    "plt.xlabel('Annual Income')\n",
    "plt.ylabel('Spending Store')\n",
    "plt.legend()\n",
    "plt.show()"
   ]
  }
 ],
 "metadata": {
  "kaggle": {
   "accelerator": "none",
   "dataSources": [
    {
     "datasetId": 42674,
     "sourceId": 74935,
     "sourceType": "datasetVersion"
    }
   ],
   "dockerImageVersionId": 30715,
   "isGpuEnabled": false,
   "isInternetEnabled": true,
   "language": "python",
   "sourceType": "notebook"
  },
  "kernelspec": {
   "display_name": "Python 3",
   "language": "python",
   "name": "python3"
  },
  "language_info": {
   "codemirror_mode": {
    "name": "ipython",
    "version": 3
   },
   "file_extension": ".py",
   "mimetype": "text/x-python",
   "name": "python",
   "nbconvert_exporter": "python",
   "pygments_lexer": "ipython3",
   "version": "3.10.13"
  },
  "papermill": {
   "default_parameters": {},
   "duration": 10.049708,
   "end_time": "2024-06-03T22:04:26.710140",
   "environment_variables": {},
   "exception": null,
   "input_path": "__notebook__.ipynb",
   "output_path": "__notebook__.ipynb",
   "parameters": {},
   "start_time": "2024-06-03T22:04:16.660432",
   "version": "2.5.0"
  }
 },
 "nbformat": 4,
 "nbformat_minor": 5
}
